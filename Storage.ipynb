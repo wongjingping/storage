{
 "cells": [
  {
   "cell_type": "markdown",
   "metadata": {},
   "source": [
    "#Storing Large Datasets in Python\n",
    "\n",
    "This notebook explores 3 options for storing a large numpy array, and compares their relative performance\n",
    " - [cPickle (dump)](https://docs.python.org/2/library/pickle.html)\n",
    " - [numpy (save)](http://docs.scipy.org/doc/numpy-1.10.0/reference/generated/numpy.save.html)\n",
    " - [h5py](www.h5py.org/)\n",
    "\n",
    "We generate a dummy dataset and record \n",
    " - the time taken to write\n",
    " - the space taken up\n",
    " - the time taken to read back"
   ]
  },
  {
   "cell_type": "code",
   "execution_count": 2,
   "metadata": {
    "collapsed": true
   },
   "outputs": [],
   "source": [
    "import os\n",
    "\n",
    "import cPickle\n",
    "import numpy as np\n",
    "import h5py\n",
    "\n",
    "# generate data\n",
    "data = np.random.uniform(low=0,high=1,size=(10000,100,5))"
   ]
  },
  {
   "cell_type": "markdown",
   "metadata": {},
   "source": [
    "### Write Times"
   ]
  },
  {
   "cell_type": "code",
   "execution_count": 3,
   "metadata": {
    "collapsed": false
   },
   "outputs": [
    {
     "name": "stdout",
     "output_type": "stream",
     "text": [
      "5 loops, best of 3: 4.68 s per loop\n"
     ]
    }
   ],
   "source": [
    "%%timeit -n 5\n",
    "with open('data.pkl','w') as f:\n",
    "    cPickle.dump(data,f)"
   ]
  },
  {
   "cell_type": "code",
   "execution_count": 4,
   "metadata": {
    "collapsed": false
   },
   "outputs": [
    {
     "name": "stdout",
     "output_type": "stream",
     "text": [
      "5 loops, best of 3: 401 ms per loop\n"
     ]
    }
   ],
   "source": [
    "%%timeit -n 5\n",
    "np.save('data.npy',data)"
   ]
  },
  {
   "cell_type": "code",
   "execution_count": 6,
   "metadata": {
    "collapsed": false
   },
   "outputs": [
    {
     "name": "stdout",
     "output_type": "stream",
     "text": [
      "5 loops, best of 3: 347 ms per loop\n"
     ]
    }
   ],
   "source": [
    "%%timeit -n 5\n",
    "f = h5py.File('data.hdf5','w')\n",
    "f.create_dataset('data',data=data)\n",
    "f.close()"
   ]
  },
  {
   "cell_type": "markdown",
   "metadata": {},
   "source": [
    "### File Sizes"
   ]
  },
  {
   "cell_type": "code",
   "execution_count": 7,
   "metadata": {
    "collapsed": false
   },
   "outputs": [
    {
     "name": "stdout",
     "output_type": "stream",
     "text": [
      "Pickling used 111.08MB\n",
      "Numpy's save used 40.00MB\n",
      "HDF5 used 40.00MB\n"
     ]
    }
   ],
   "source": [
    "s1 = os.path.getsize('data.pkl')/1.e6\n",
    "s2 = os.path.getsize('data.npy')/1.e6\n",
    "s3 = os.path.getsize('data.hdf5')/1.e6\n",
    "print('Pickling used %.2fMB\\nNumpy\\'s save used %.2fMB\\nHDF5 used %.2fMB' % (s1,s2,s3))"
   ]
  },
  {
   "cell_type": "markdown",
   "metadata": {},
   "source": [
    "###Read Times"
   ]
  },
  {
   "cell_type": "code",
   "execution_count": 8,
   "metadata": {
    "collapsed": false
   },
   "outputs": [
    {
     "name": "stdout",
     "output_type": "stream",
     "text": [
      "5 loops, best of 3: 10.7 s per loop\n"
     ]
    }
   ],
   "source": [
    "%%timeit -n 5\n",
    "with open('data.pkl','r') as f:\n",
    "    data = cPickle.load(f)"
   ]
  },
  {
   "cell_type": "code",
   "execution_count": 9,
   "metadata": {
    "collapsed": false
   },
   "outputs": [
    {
     "name": "stdout",
     "output_type": "stream",
     "text": [
      "The slowest run took 5.58 times longer than the fastest. This could mean that an intermediate result is being cached \n",
      "5 loops, best of 3: 17.2 ms per loop\n"
     ]
    }
   ],
   "source": [
    "%%timeit -n 5\n",
    "data = np.load('data.npy')"
   ]
  },
  {
   "cell_type": "code",
   "execution_count": 10,
   "metadata": {
    "collapsed": false
   },
   "outputs": [
    {
     "name": "stdout",
     "output_type": "stream",
     "text": [
      "5 loops, best of 3: 16.4 ms per loop\n"
     ]
    }
   ],
   "source": [
    "%%timeit -n 5\n",
    "f = h5py.File('data.hdf5','r')\n",
    "data = f['data'].value\n",
    "f.close()"
   ]
  },
  {
   "cell_type": "code",
   "execution_count": 13,
   "metadata": {
    "collapsed": false
   },
   "outputs": [],
   "source": [
    "# remove saved data files\n",
    "os.remove('data.pkl') \n",
    "os.remove('data.npy')\n",
    "os.remove('data.hdf5')"
   ]
  },
  {
   "cell_type": "markdown",
   "metadata": {},
   "source": [
    "##Conclusion\n",
    "\n",
    "numpy's save and hdf5 were the best file storage options in terms of file sizes and read times, while hdf5 was slightly faster than numpy's save when writing out to disk."
   ]
  }
 ],
 "metadata": {
  "kernelspec": {
   "display_name": "Python 2",
   "language": "python",
   "name": "python2"
  },
  "language_info": {
   "codemirror_mode": {
    "name": "ipython",
    "version": 2
   },
   "file_extension": ".py",
   "mimetype": "text/x-python",
   "name": "python",
   "nbconvert_exporter": "python",
   "pygments_lexer": "ipython2",
   "version": "2.7.9"
  }
 },
 "nbformat": 4,
 "nbformat_minor": 0
}
